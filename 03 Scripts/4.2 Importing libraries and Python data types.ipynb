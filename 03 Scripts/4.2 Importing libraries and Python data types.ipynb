{
 "cells": [
  {
   "cell_type": "markdown",
   "id": "0dd34c69",
   "metadata": {},
   "source": [
    "# 01. Importing libraries"
   ]
  },
  {
   "cell_type": "code",
   "execution_count": 1,
   "id": "7dde798e",
   "metadata": {},
   "outputs": [],
   "source": [
    "# Import libraries\n",
    "import pandas as pf\n",
    "import numpy as np\n",
    "import os"
   ]
  },
  {
   "cell_type": "markdown",
   "id": "d7fb9abf",
   "metadata": {},
   "source": [
    "# 02. Python data types"
   ]
  },
  {
   "cell_type": "code",
   "execution_count": null,
   "id": "1c12358f",
   "metadata": {},
   "outputs": [],
   "source": [
    "# perform operations"
   ]
  },
  {
   "cell_type": "code",
   "execution_count": 33,
   "id": "5c482ddb",
   "metadata": {},
   "outputs": [],
   "source": [
    "x = 25"
   ]
  },
  {
   "cell_type": "code",
   "execution_count": 43,
   "id": "05b4eefe",
   "metadata": {},
   "outputs": [
    {
     "data": {
      "text/plain": [
       "100"
      ]
     },
     "execution_count": 43,
     "metadata": {},
     "output_type": "execute_result"
    }
   ],
   "source": [
    "x + 75"
   ]
  },
  {
   "cell_type": "code",
   "execution_count": 35,
   "id": "c6e548e2",
   "metadata": {},
   "outputs": [],
   "source": [
    "y = 90"
   ]
  },
  {
   "cell_type": "code",
   "execution_count": 36,
   "id": "9407d3d2",
   "metadata": {},
   "outputs": [
    {
     "data": {
      "text/plain": [
       "100"
      ]
     },
     "execution_count": 36,
     "metadata": {},
     "output_type": "execute_result"
    }
   ],
   "source": [
    "y + 10"
   ]
  },
  {
   "cell_type": "code",
   "execution_count": 37,
   "id": "5ba1c194",
   "metadata": {},
   "outputs": [],
   "source": [
    "z = 95"
   ]
  },
  {
   "cell_type": "code",
   "execution_count": 42,
   "id": "b3d183f3",
   "metadata": {},
   "outputs": [
    {
     "data": {
      "text/plain": [
       "100"
      ]
     },
     "execution_count": 42,
     "metadata": {},
     "output_type": "execute_result"
    }
   ],
   "source": [
    "z + z - y"
   ]
  },
  {
   "cell_type": "code",
   "execution_count": 39,
   "id": "34de3532",
   "metadata": {},
   "outputs": [],
   "source": [
    "a = 1.75"
   ]
  },
  {
   "cell_type": "code",
   "execution_count": 40,
   "id": "a9f406c0",
   "metadata": {},
   "outputs": [],
   "source": [
    "b = 10.50"
   ]
  },
  {
   "cell_type": "code",
   "execution_count": 41,
   "id": "ec80c26c",
   "metadata": {},
   "outputs": [
    {
     "data": {
      "text/plain": [
       "6.0"
      ]
     },
     "execution_count": 41,
     "metadata": {},
     "output_type": "execute_result"
    }
   ],
   "source": [
    "b / a"
   ]
  },
  {
   "cell_type": "code",
   "execution_count": null,
   "id": "6eadf78f",
   "metadata": {},
   "outputs": [],
   "source": [
    "# create a short word made of separate strings"
   ]
  },
  {
   "cell_type": "code",
   "execution_count": 44,
   "id": "c414ef30",
   "metadata": {},
   "outputs": [],
   "source": [
    "c = 'bas'"
   ]
  },
  {
   "cell_type": "code",
   "execution_count": 45,
   "id": "8dd5598b",
   "metadata": {},
   "outputs": [],
   "source": [
    "d = 'ket'"
   ]
  },
  {
   "cell_type": "code",
   "execution_count": 46,
   "id": "f65ee084",
   "metadata": {},
   "outputs": [
    {
     "data": {
      "text/plain": [
       "'basket'"
      ]
     },
     "execution_count": 46,
     "metadata": {},
     "output_type": "execute_result"
    }
   ],
   "source": [
    "c + d"
   ]
  },
  {
   "cell_type": "code",
   "execution_count": null,
   "id": "16ddab1c",
   "metadata": {},
   "outputs": [],
   "source": [
    "# create 2 short sentences made up of separate strings"
   ]
  },
  {
   "cell_type": "code",
   "execution_count": 47,
   "id": "bd106242",
   "metadata": {},
   "outputs": [],
   "source": [
    "e = 'I '"
   ]
  },
  {
   "cell_type": "code",
   "execution_count": 48,
   "id": "37b01984",
   "metadata": {},
   "outputs": [],
   "source": [
    "f = 'will '"
   ]
  },
  {
   "cell_type": "code",
   "execution_count": 54,
   "id": "01054297",
   "metadata": {},
   "outputs": [],
   "source": [
    "g = 'learn '"
   ]
  },
  {
   "cell_type": "code",
   "execution_count": 50,
   "id": "bcf63ddb",
   "metadata": {},
   "outputs": [],
   "source": [
    "h = 'Python. '"
   ]
  },
  {
   "cell_type": "code",
   "execution_count": 51,
   "id": "4697602e",
   "metadata": {},
   "outputs": [],
   "source": [
    "i = 'use '"
   ]
  },
  {
   "cell_type": "code",
   "execution_count": 52,
   "id": "a39a9244",
   "metadata": {},
   "outputs": [],
   "source": [
    "j = 'pandas.'"
   ]
  },
  {
   "cell_type": "code",
   "execution_count": 55,
   "id": "cde500c5",
   "metadata": {},
   "outputs": [
    {
     "data": {
      "text/plain": [
       "'I will learn Python. I will use pandas.'"
      ]
     },
     "execution_count": 55,
     "metadata": {},
     "output_type": "execute_result"
    }
   ],
   "source": [
    "e + f + g + h + e + f + i + j"
   ]
  },
  {
   "cell_type": "code",
   "execution_count": null,
   "id": "b4744f24",
   "metadata": {},
   "outputs": [],
   "source": [
    "# Bonus question"
   ]
  },
  {
   "cell_type": "code",
   "execution_count": 57,
   "id": "ccd5b202",
   "metadata": {},
   "outputs": [],
   "source": [
    "k = 'eat'"
   ]
  },
  {
   "cell_type": "code",
   "execution_count": 58,
   "id": "42e5f8b2",
   "metadata": {},
   "outputs": [
    {
     "data": {
      "text/plain": [
       "'eateateateateateateateateateateateateateateateateateateateateateateateateateateateateateateateateateateateateateateateateateateateateateateateateateateateateateateateateateateateateateateateateateateateateateateateateateateateateateateateateateateateateateateateateateateateateateateateateateateateat'"
      ]
     },
     "execution_count": 58,
     "metadata": {},
     "output_type": "execute_result"
    }
   ],
   "source": [
    "k * 100"
   ]
  },
  {
   "cell_type": "code",
   "execution_count": null,
   "id": "7f05254c",
   "metadata": {},
   "outputs": [],
   "source": []
  }
 ],
 "metadata": {
  "kernelspec": {
   "display_name": "Python 3 (ipykernel)",
   "language": "python",
   "name": "python3"
  },
  "language_info": {
   "codemirror_mode": {
    "name": "ipython",
    "version": 3
   },
   "file_extension": ".py",
   "mimetype": "text/x-python",
   "name": "python",
   "nbconvert_exporter": "python",
   "pygments_lexer": "ipython3",
   "version": "3.9.13"
  }
 },
 "nbformat": 4,
 "nbformat_minor": 5
}
